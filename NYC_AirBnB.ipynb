{
 "cells": [
  {
   "cell_type": "code",
   "execution_count": 1,
   "id": "de346a22-696c-4dfc-bdb2-df3fd716838e",
   "metadata": {},
   "outputs": [],
   "source": [
    "import pandas as pd\n",
    "import numpy as np\n",
    "import seaborn as sns\n",
    "import matplotlib.pyplot as plt\n",
    "from datetime import datetime\n",
    "from scipy import stats\n",
    "import math\n",
    "import re"
   ]
  },
  {
   "cell_type": "markdown",
   "id": "68fb5a4f-1b2f-4c17-bd95-c1e511ab1726",
   "metadata": {},
   "source": [
    "### Listings File"
   ]
  },
  {
   "cell_type": "code",
   "execution_count": 2,
   "id": "6915d650-c2c2-4e9d-b87d-ac642802a375",
   "metadata": {},
   "outputs": [],
   "source": [
    "listing_df = pd.read_csv(r\"E:\\Michaelmas\\BU7141-Data Management & Viz\\Group Project\\listings.csv\")"
   ]
  },
  {
   "cell_type": "code",
   "execution_count": 3,
   "id": "a704ecb2-4c8a-4d35-a038-594b5bd8cc91",
   "metadata": {},
   "outputs": [
    {
     "data": {
      "text/html": [
       "<div>\n",
       "<style scoped>\n",
       "    .dataframe tbody tr th:only-of-type {\n",
       "        vertical-align: middle;\n",
       "    }\n",
       "\n",
       "    .dataframe tbody tr th {\n",
       "        vertical-align: top;\n",
       "    }\n",
       "\n",
       "    .dataframe thead th {\n",
       "        text-align: right;\n",
       "    }\n",
       "</style>\n",
       "<table border=\"1\" class=\"dataframe\">\n",
       "  <thead>\n",
       "    <tr style=\"text-align: right;\">\n",
       "      <th></th>\n",
       "      <th>id</th>\n",
       "      <th>listing_url</th>\n",
       "      <th>scrape_id</th>\n",
       "      <th>last_scraped</th>\n",
       "      <th>source</th>\n",
       "      <th>name</th>\n",
       "      <th>description</th>\n",
       "      <th>neighborhood_overview</th>\n",
       "      <th>picture_url</th>\n",
       "      <th>host_id</th>\n",
       "      <th>...</th>\n",
       "      <th>review_scores_communication</th>\n",
       "      <th>review_scores_location</th>\n",
       "      <th>review_scores_value</th>\n",
       "      <th>license</th>\n",
       "      <th>instant_bookable</th>\n",
       "      <th>calculated_host_listings_count</th>\n",
       "      <th>calculated_host_listings_count_entire_homes</th>\n",
       "      <th>calculated_host_listings_count_private_rooms</th>\n",
       "      <th>calculated_host_listings_count_shared_rooms</th>\n",
       "      <th>reviews_per_month</th>\n",
       "    </tr>\n",
       "  </thead>\n",
       "  <tbody>\n",
       "    <tr>\n",
       "      <th>0</th>\n",
       "      <td>739333866230665000</td>\n",
       "      <td>https://www.airbnb.com/rooms/739333866230665371</td>\n",
       "      <td>20240904164109</td>\n",
       "      <td>45539</td>\n",
       "      <td>city scrape</td>\n",
       "      <td>Lovely room 2 windows tv work desk ac included</td>\n",
       "      <td>Lovely vocation room, has work desk , tv, 2 wi...</td>\n",
       "      <td>NaN</td>\n",
       "      <td>https://a0.muscache.com/pictures/miso/Hosting-...</td>\n",
       "      <td>3013025</td>\n",
       "      <td>...</td>\n",
       "      <td>NaN</td>\n",
       "      <td>NaN</td>\n",
       "      <td>NaN</td>\n",
       "      <td>NaN</td>\n",
       "      <td>f</td>\n",
       "      <td>1</td>\n",
       "      <td>0</td>\n",
       "      <td>1</td>\n",
       "      <td>0</td>\n",
       "      <td>NaN</td>\n",
       "    </tr>\n",
       "    <tr>\n",
       "      <th>1</th>\n",
       "      <td>572612125615500000</td>\n",
       "      <td>https://www.airbnb.com/rooms/572612125615500056</td>\n",
       "      <td>20240904164109</td>\n",
       "      <td>45539</td>\n",
       "      <td>city scrape</td>\n",
       "      <td>Room by Sunny &amp; Bay! Sunset Park &amp; Bay Ridge</td>\n",
       "      <td>Cozy room in a charming Sunset Park apartment....</td>\n",
       "      <td>NaN</td>\n",
       "      <td>https://a0.muscache.com/pictures/5f44a178-6043...</td>\n",
       "      <td>358089614</td>\n",
       "      <td>...</td>\n",
       "      <td>4.83</td>\n",
       "      <td>4.67</td>\n",
       "      <td>4.67</td>\n",
       "      <td>NaN</td>\n",
       "      <td>t</td>\n",
       "      <td>2</td>\n",
       "      <td>0</td>\n",
       "      <td>2</td>\n",
       "      <td>0</td>\n",
       "      <td>0.21</td>\n",
       "    </tr>\n",
       "    <tr>\n",
       "      <th>2</th>\n",
       "      <td>45267941</td>\n",
       "      <td>https://www.airbnb.com/rooms/45267941</td>\n",
       "      <td>20240904164109</td>\n",
       "      <td>45539</td>\n",
       "      <td>city scrape</td>\n",
       "      <td>Private Room in Luxury Apartment</td>\n",
       "      <td>NaN</td>\n",
       "      <td>NaN</td>\n",
       "      <td>https://a0.muscache.com/pictures/3c15a88e-b08a...</td>\n",
       "      <td>39162543</td>\n",
       "      <td>...</td>\n",
       "      <td>NaN</td>\n",
       "      <td>NaN</td>\n",
       "      <td>NaN</td>\n",
       "      <td>NaN</td>\n",
       "      <td>f</td>\n",
       "      <td>3</td>\n",
       "      <td>2</td>\n",
       "      <td>1</td>\n",
       "      <td>0</td>\n",
       "      <td>NaN</td>\n",
       "    </tr>\n",
       "    <tr>\n",
       "      <th>3</th>\n",
       "      <td>838141198693830000</td>\n",
       "      <td>https://www.airbnb.com/rooms/838141198693830649</td>\n",
       "      <td>20240904164109</td>\n",
       "      <td>45539</td>\n",
       "      <td>city scrape</td>\n",
       "      <td>Modern renovated huge apartment</td>\n",
       "      <td>NaN</td>\n",
       "      <td>NaN</td>\n",
       "      <td>https://a0.muscache.com/pictures/prohost-api/H...</td>\n",
       "      <td>148571080</td>\n",
       "      <td>...</td>\n",
       "      <td>NaN</td>\n",
       "      <td>NaN</td>\n",
       "      <td>NaN</td>\n",
       "      <td>NaN</td>\n",
       "      <td>f</td>\n",
       "      <td>5</td>\n",
       "      <td>5</td>\n",
       "      <td>0</td>\n",
       "      <td>0</td>\n",
       "      <td>NaN</td>\n",
       "    </tr>\n",
       "    <tr>\n",
       "      <th>4</th>\n",
       "      <td>1082660771919350000</td>\n",
       "      <td>https://www.airbnb.com/rooms/1082660771919357919</td>\n",
       "      <td>20240904164109</td>\n",
       "      <td>45539</td>\n",
       "      <td>city scrape</td>\n",
       "      <td>Summertime Park Slope townhouse</td>\n",
       "      <td>425 10th Street is what dreams are made of!  S...</td>\n",
       "      <td>NaN</td>\n",
       "      <td>https://a0.muscache.com/pictures/hosting/Hosti...</td>\n",
       "      <td>394869975</td>\n",
       "      <td>...</td>\n",
       "      <td>NaN</td>\n",
       "      <td>NaN</td>\n",
       "      <td>NaN</td>\n",
       "      <td>NaN</td>\n",
       "      <td>f</td>\n",
       "      <td>3</td>\n",
       "      <td>3</td>\n",
       "      <td>0</td>\n",
       "      <td>0</td>\n",
       "      <td>NaN</td>\n",
       "    </tr>\n",
       "    <tr>\n",
       "      <th>...</th>\n",
       "      <td>...</td>\n",
       "      <td>...</td>\n",
       "      <td>...</td>\n",
       "      <td>...</td>\n",
       "      <td>...</td>\n",
       "      <td>...</td>\n",
       "      <td>...</td>\n",
       "      <td>...</td>\n",
       "      <td>...</td>\n",
       "      <td>...</td>\n",
       "      <td>...</td>\n",
       "      <td>...</td>\n",
       "      <td>...</td>\n",
       "      <td>...</td>\n",
       "      <td>...</td>\n",
       "      <td>...</td>\n",
       "      <td>...</td>\n",
       "      <td>...</td>\n",
       "      <td>...</td>\n",
       "      <td>...</td>\n",
       "      <td>...</td>\n",
       "    </tr>\n",
       "    <tr>\n",
       "      <th>37536</th>\n",
       "      <td>943355797386691000</td>\n",
       "      <td>https://www.airbnb.com/rooms/943355797386691170</td>\n",
       "      <td>20240904164109</td>\n",
       "      <td>45540</td>\n",
       "      <td>city scrape</td>\n",
       "      <td>basement#4</td>\n",
       "      <td>Please read the amenities we offer, doing as t...</td>\n",
       "      <td>NaN</td>\n",
       "      <td>https://a0.muscache.com/pictures/86532950-b457...</td>\n",
       "      <td>424334449</td>\n",
       "      <td>...</td>\n",
       "      <td>4.20</td>\n",
       "      <td>3.80</td>\n",
       "      <td>3.80</td>\n",
       "      <td>NaN</td>\n",
       "      <td>t</td>\n",
       "      <td>6</td>\n",
       "      <td>0</td>\n",
       "      <td>6</td>\n",
       "      <td>0</td>\n",
       "      <td>0.38</td>\n",
       "    </tr>\n",
       "    <tr>\n",
       "      <th>37537</th>\n",
       "      <td>783387491435863000</td>\n",
       "      <td>https://www.airbnb.com/rooms/783387491435863626</td>\n",
       "      <td>20240904164109</td>\n",
       "      <td>45540</td>\n",
       "      <td>city scrape</td>\n",
       "      <td>Modern 3 Bed 2 Bath Home With Parking | 2 min LGA</td>\n",
       "      <td>Welcome to Fly-Inn, a stylish retreat in the h...</td>\n",
       "      <td>NaN</td>\n",
       "      <td>https://a0.muscache.com/pictures/miso/Hosting-...</td>\n",
       "      <td>491695460</td>\n",
       "      <td>...</td>\n",
       "      <td>4.89</td>\n",
       "      <td>4.78</td>\n",
       "      <td>4.77</td>\n",
       "      <td>OSE-STRREG-0001661</td>\n",
       "      <td>f</td>\n",
       "      <td>1</td>\n",
       "      <td>1</td>\n",
       "      <td>0</td>\n",
       "      <td>0</td>\n",
       "      <td>4.97</td>\n",
       "    </tr>\n",
       "    <tr>\n",
       "      <th>37538</th>\n",
       "      <td>45834849</td>\n",
       "      <td>https://www.airbnb.com/rooms/45834849</td>\n",
       "      <td>20240904164109</td>\n",
       "      <td>45540</td>\n",
       "      <td>city scrape</td>\n",
       "      <td>Home away from Home</td>\n",
       "      <td>Clean, quiet, safe, comfortable and easily acc...</td>\n",
       "      <td>NaN</td>\n",
       "      <td>https://a0.muscache.com/pictures/58b10170-a925...</td>\n",
       "      <td>347560493</td>\n",
       "      <td>...</td>\n",
       "      <td>4.60</td>\n",
       "      <td>4.40</td>\n",
       "      <td>4.30</td>\n",
       "      <td>OSE-STRREG-0000299</td>\n",
       "      <td>f</td>\n",
       "      <td>4</td>\n",
       "      <td>0</td>\n",
       "      <td>4</td>\n",
       "      <td>0</td>\n",
       "      <td>1.22</td>\n",
       "    </tr>\n",
       "    <tr>\n",
       "      <th>37539</th>\n",
       "      <td>53194676</td>\n",
       "      <td>https://www.airbnb.com/rooms/53194676</td>\n",
       "      <td>20240904164109</td>\n",
       "      <td>45540</td>\n",
       "      <td>city scrape</td>\n",
       "      <td>Traveling Nurses Utilities, Driveway, Washer/D...</td>\n",
       "      <td>Private driveway, wash machine, dryer, utiliti...</td>\n",
       "      <td>The Bronx has the best pizza, Italian restaura...</td>\n",
       "      <td>https://a0.muscache.com/pictures/59d34d45-d2c0...</td>\n",
       "      <td>127112667</td>\n",
       "      <td>...</td>\n",
       "      <td>NaN</td>\n",
       "      <td>NaN</td>\n",
       "      <td>NaN</td>\n",
       "      <td>NaN</td>\n",
       "      <td>f</td>\n",
       "      <td>1</td>\n",
       "      <td>1</td>\n",
       "      <td>0</td>\n",
       "      <td>0</td>\n",
       "      <td>NaN</td>\n",
       "    </tr>\n",
       "    <tr>\n",
       "      <th>37540</th>\n",
       "      <td>39483421</td>\n",
       "      <td>https://www.airbnb.com/rooms/39483421</td>\n",
       "      <td>20240904164109</td>\n",
       "      <td>45540</td>\n",
       "      <td>previous scrape</td>\n",
       "      <td>Perfect Room For 2 In Newly Renovated Apartment!</td>\n",
       "      <td>Hello &amp; Welcome to my Cozy room for 2 in newly...</td>\n",
       "      <td>Beautiful and hip Astoria!</td>\n",
       "      <td>https://a0.muscache.com/pictures/2461402e-67fa...</td>\n",
       "      <td>302586724</td>\n",
       "      <td>...</td>\n",
       "      <td>4.50</td>\n",
       "      <td>4.79</td>\n",
       "      <td>4.14</td>\n",
       "      <td>NaN</td>\n",
       "      <td>f</td>\n",
       "      <td>3</td>\n",
       "      <td>0</td>\n",
       "      <td>3</td>\n",
       "      <td>0</td>\n",
       "      <td>0.24</td>\n",
       "    </tr>\n",
       "  </tbody>\n",
       "</table>\n",
       "<p>37541 rows × 75 columns</p>\n",
       "</div>"
      ],
      "text/plain": [
       "                        id                                       listing_url  \\\n",
       "0       739333866230665000   https://www.airbnb.com/rooms/739333866230665371   \n",
       "1       572612125615500000   https://www.airbnb.com/rooms/572612125615500056   \n",
       "2                 45267941             https://www.airbnb.com/rooms/45267941   \n",
       "3       838141198693830000   https://www.airbnb.com/rooms/838141198693830649   \n",
       "4      1082660771919350000  https://www.airbnb.com/rooms/1082660771919357919   \n",
       "...                    ...                                               ...   \n",
       "37536   943355797386691000   https://www.airbnb.com/rooms/943355797386691170   \n",
       "37537   783387491435863000   https://www.airbnb.com/rooms/783387491435863626   \n",
       "37538             45834849             https://www.airbnb.com/rooms/45834849   \n",
       "37539             53194676             https://www.airbnb.com/rooms/53194676   \n",
       "37540             39483421             https://www.airbnb.com/rooms/39483421   \n",
       "\n",
       "            scrape_id  last_scraped           source  \\\n",
       "0      20240904164109         45539      city scrape   \n",
       "1      20240904164109         45539      city scrape   \n",
       "2      20240904164109         45539      city scrape   \n",
       "3      20240904164109         45539      city scrape   \n",
       "4      20240904164109         45539      city scrape   \n",
       "...               ...           ...              ...   \n",
       "37536  20240904164109         45540      city scrape   \n",
       "37537  20240904164109         45540      city scrape   \n",
       "37538  20240904164109         45540      city scrape   \n",
       "37539  20240904164109         45540      city scrape   \n",
       "37540  20240904164109         45540  previous scrape   \n",
       "\n",
       "                                                    name  \\\n",
       "0         Lovely room 2 windows tv work desk ac included   \n",
       "1           Room by Sunny & Bay! Sunset Park & Bay Ridge   \n",
       "2                       Private Room in Luxury Apartment   \n",
       "3                        Modern renovated huge apartment   \n",
       "4                        Summertime Park Slope townhouse   \n",
       "...                                                  ...   \n",
       "37536                                         basement#4   \n",
       "37537  Modern 3 Bed 2 Bath Home With Parking | 2 min LGA   \n",
       "37538                                Home away from Home   \n",
       "37539  Traveling Nurses Utilities, Driveway, Washer/D...   \n",
       "37540   Perfect Room For 2 In Newly Renovated Apartment!   \n",
       "\n",
       "                                             description  \\\n",
       "0      Lovely vocation room, has work desk , tv, 2 wi...   \n",
       "1      Cozy room in a charming Sunset Park apartment....   \n",
       "2                                                    NaN   \n",
       "3                                                    NaN   \n",
       "4      425 10th Street is what dreams are made of!  S...   \n",
       "...                                                  ...   \n",
       "37536  Please read the amenities we offer, doing as t...   \n",
       "37537  Welcome to Fly-Inn, a stylish retreat in the h...   \n",
       "37538  Clean, quiet, safe, comfortable and easily acc...   \n",
       "37539  Private driveway, wash machine, dryer, utiliti...   \n",
       "37540  Hello & Welcome to my Cozy room for 2 in newly...   \n",
       "\n",
       "                                   neighborhood_overview  \\\n",
       "0                                                    NaN   \n",
       "1                                                    NaN   \n",
       "2                                                    NaN   \n",
       "3                                                    NaN   \n",
       "4                                                    NaN   \n",
       "...                                                  ...   \n",
       "37536                                                NaN   \n",
       "37537                                                NaN   \n",
       "37538                                                NaN   \n",
       "37539  The Bronx has the best pizza, Italian restaura...   \n",
       "37540                         Beautiful and hip Astoria!   \n",
       "\n",
       "                                             picture_url    host_id  ...  \\\n",
       "0      https://a0.muscache.com/pictures/miso/Hosting-...    3013025  ...   \n",
       "1      https://a0.muscache.com/pictures/5f44a178-6043...  358089614  ...   \n",
       "2      https://a0.muscache.com/pictures/3c15a88e-b08a...   39162543  ...   \n",
       "3      https://a0.muscache.com/pictures/prohost-api/H...  148571080  ...   \n",
       "4      https://a0.muscache.com/pictures/hosting/Hosti...  394869975  ...   \n",
       "...                                                  ...        ...  ...   \n",
       "37536  https://a0.muscache.com/pictures/86532950-b457...  424334449  ...   \n",
       "37537  https://a0.muscache.com/pictures/miso/Hosting-...  491695460  ...   \n",
       "37538  https://a0.muscache.com/pictures/58b10170-a925...  347560493  ...   \n",
       "37539  https://a0.muscache.com/pictures/59d34d45-d2c0...  127112667  ...   \n",
       "37540  https://a0.muscache.com/pictures/2461402e-67fa...  302586724  ...   \n",
       "\n",
       "      review_scores_communication review_scores_location review_scores_value  \\\n",
       "0                             NaN                    NaN                 NaN   \n",
       "1                            4.83                   4.67                4.67   \n",
       "2                             NaN                    NaN                 NaN   \n",
       "3                             NaN                    NaN                 NaN   \n",
       "4                             NaN                    NaN                 NaN   \n",
       "...                           ...                    ...                 ...   \n",
       "37536                        4.20                   3.80                3.80   \n",
       "37537                        4.89                   4.78                4.77   \n",
       "37538                        4.60                   4.40                4.30   \n",
       "37539                         NaN                    NaN                 NaN   \n",
       "37540                        4.50                   4.79                4.14   \n",
       "\n",
       "                  license instant_bookable calculated_host_listings_count  \\\n",
       "0                     NaN                f                              1   \n",
       "1                     NaN                t                              2   \n",
       "2                     NaN                f                              3   \n",
       "3                     NaN                f                              5   \n",
       "4                     NaN                f                              3   \n",
       "...                   ...              ...                            ...   \n",
       "37536                 NaN                t                              6   \n",
       "37537  OSE-STRREG-0001661                f                              1   \n",
       "37538  OSE-STRREG-0000299                f                              4   \n",
       "37539                 NaN                f                              1   \n",
       "37540                 NaN                f                              3   \n",
       "\n",
       "      calculated_host_listings_count_entire_homes  \\\n",
       "0                                               0   \n",
       "1                                               0   \n",
       "2                                               2   \n",
       "3                                               5   \n",
       "4                                               3   \n",
       "...                                           ...   \n",
       "37536                                           0   \n",
       "37537                                           1   \n",
       "37538                                           0   \n",
       "37539                                           1   \n",
       "37540                                           0   \n",
       "\n",
       "      calculated_host_listings_count_private_rooms  \\\n",
       "0                                                1   \n",
       "1                                                2   \n",
       "2                                                1   \n",
       "3                                                0   \n",
       "4                                                0   \n",
       "...                                            ...   \n",
       "37536                                            6   \n",
       "37537                                            0   \n",
       "37538                                            4   \n",
       "37539                                            0   \n",
       "37540                                            3   \n",
       "\n",
       "      calculated_host_listings_count_shared_rooms reviews_per_month  \n",
       "0                                               0               NaN  \n",
       "1                                               0              0.21  \n",
       "2                                               0               NaN  \n",
       "3                                               0               NaN  \n",
       "4                                               0               NaN  \n",
       "...                                           ...               ...  \n",
       "37536                                           0              0.38  \n",
       "37537                                           0              4.97  \n",
       "37538                                           0              1.22  \n",
       "37539                                           0               NaN  \n",
       "37540                                           0              0.24  \n",
       "\n",
       "[37541 rows x 75 columns]"
      ]
     },
     "execution_count": 3,
     "metadata": {},
     "output_type": "execute_result"
    }
   ],
   "source": [
    "listing_df"
   ]
  },
  {
   "cell_type": "code",
   "execution_count": 4,
   "id": "849b2bb4-ec36-4aef-9818-6a6931bf26e3",
   "metadata": {},
   "outputs": [
    {
     "data": {
      "text/plain": [
       "id                                                int64\n",
       "listing_url                                      object\n",
       "scrape_id                                         int64\n",
       "last_scraped                                      int64\n",
       "source                                           object\n",
       "                                                 ...   \n",
       "calculated_host_listings_count                    int64\n",
       "calculated_host_listings_count_entire_homes       int64\n",
       "calculated_host_listings_count_private_rooms      int64\n",
       "calculated_host_listings_count_shared_rooms       int64\n",
       "reviews_per_month                               float64\n",
       "Length: 75, dtype: object"
      ]
     },
     "execution_count": 4,
     "metadata": {},
     "output_type": "execute_result"
    }
   ],
   "source": [
    "listing_df.dtypes"
   ]
  },
  {
   "cell_type": "code",
   "execution_count": 5,
   "id": "7d5e686e-f44f-47f1-87e6-d50bbbdf3860",
   "metadata": {},
   "outputs": [
    {
     "data": {
      "text/plain": [
       "Index(['id', 'listing_url', 'scrape_id', 'last_scraped', 'source', 'name',\n",
       "       'description', 'neighborhood_overview', 'picture_url', 'host_id',\n",
       "       'host_url', 'host_name', 'host_since', 'host_location', 'host_about',\n",
       "       'host_response_time', 'host_response_rate', 'host_acceptance_rate',\n",
       "       'host_is_superhost', 'host_thumbnail_url', 'host_picture_url',\n",
       "       'host_neighbourhood', 'host_listings_count',\n",
       "       'host_total_listings_count', 'host_verifications',\n",
       "       'host_has_profile_pic', 'host_identity_verified', 'neighbourhood',\n",
       "       'neighbourhood_cleansed', 'neighbourhood_group_cleansed', 'latitude',\n",
       "       'longitude', 'property_type', 'room_type', 'accommodates', 'bathrooms',\n",
       "       'bathrooms_text', 'bedrooms', 'beds', 'amenities', 'price',\n",
       "       'minimum_nights', 'maximum_nights', 'minimum_minimum_nights',\n",
       "       'maximum_minimum_nights', 'minimum_maximum_nights',\n",
       "       'maximum_maximum_nights', 'minimum_nights_avg_ntm',\n",
       "       'maximum_nights_avg_ntm', 'calendar_updated', 'has_availability',\n",
       "       'availability_30', 'availability_60', 'availability_90',\n",
       "       'availability_365', 'calendar_last_scraped', 'number_of_reviews',\n",
       "       'number_of_reviews_ltm', 'number_of_reviews_l30d', 'first_review',\n",
       "       'last_review', 'review_scores_rating', 'review_scores_accuracy',\n",
       "       'review_scores_cleanliness', 'review_scores_checkin',\n",
       "       'review_scores_communication', 'review_scores_location',\n",
       "       'review_scores_value', 'license', 'instant_bookable',\n",
       "       'calculated_host_listings_count',\n",
       "       'calculated_host_listings_count_entire_homes',\n",
       "       'calculated_host_listings_count_private_rooms',\n",
       "       'calculated_host_listings_count_shared_rooms', 'reviews_per_month'],\n",
       "      dtype='object')"
      ]
     },
     "execution_count": 5,
     "metadata": {},
     "output_type": "execute_result"
    }
   ],
   "source": [
    "listing_df.columns"
   ]
  },
  {
   "cell_type": "code",
   "execution_count": 6,
   "id": "e4fd8350-2c03-4d0e-bfa0-4525e7d073e2",
   "metadata": {},
   "outputs": [
    {
     "name": "stdout",
     "output_type": "stream",
     "text": [
      "name                               2\n",
      "description                     1320\n",
      "neighborhood_overview          16650\n",
      "picture_url                        1\n",
      "host_name                          5\n",
      "host_since                         5\n",
      "host_location                   8079\n",
      "host_about                     16247\n",
      "host_response_time             14897\n",
      "host_response_rate             14897\n",
      "host_acceptance_rate           14311\n",
      "host_is_superhost                429\n",
      "host_thumbnail_url                 5\n",
      "host_picture_url                   5\n",
      "host_neighbourhood              7515\n",
      "host_listings_count                5\n",
      "host_total_listings_count          5\n",
      "host_verifications                 5\n",
      "host_has_profile_pic               5\n",
      "host_identity_verified             5\n",
      "neighbourhood                  16649\n",
      "bathrooms                      14751\n",
      "bathrooms_text                    32\n",
      "bedrooms                        5841\n",
      "beds                           14886\n",
      "price                          14751\n",
      "minimum_minimum_nights             1\n",
      "maximum_minimum_nights             1\n",
      "minimum_maximum_nights             1\n",
      "maximum_maximum_nights             1\n",
      "minimum_nights_avg_ntm             1\n",
      "maximum_nights_avg_ntm             1\n",
      "calendar_updated               37541\n",
      "has_availability                5385\n",
      "first_review                   11540\n",
      "last_review                    11540\n",
      "review_scores_rating           11540\n",
      "review_scores_accuracy         11551\n",
      "review_scores_cleanliness      11541\n",
      "review_scores_checkin          11555\n",
      "review_scores_communication    11546\n",
      "review_scores_location         11558\n",
      "review_scores_value            11557\n",
      "license                        32200\n",
      "reviews_per_month              11540\n",
      "dtype: int64\n"
     ]
    }
   ],
   "source": [
    "# Checking nulls in all columns\n",
    "null_counts =listing_df.isnull().sum()\n",
    "null_counts = null_counts[null_counts > 0]\n",
    "print(null_counts)"
   ]
  },
  {
   "cell_type": "code",
   "execution_count": 7,
   "id": "5ceee30e-28b4-45a0-88ba-809a3f2fb202",
   "metadata": {},
   "outputs": [
    {
     "data": {
      "image/png": "[encoded data removed]",
      "text/plain": [
       "<Figure size 1100x500 with 2 Axes>"
      ]
     },
     "metadata": {},
     "output_type": "display_data"
    },
    {
     "name": "stdout",
     "output_type": "stream",
     "text": [
      "id                                                  0\n",
      "listing_url                                         0\n",
      "scrape_id                                           0\n",
      "last_scraped                                        0\n",
      "source                                              0\n",
      "                                                ...  \n",
      "calculated_host_listings_count                      0\n",
      "calculated_host_listings_count_entire_homes         0\n",
      "calculated_host_listings_count_private_rooms        0\n",
      "calculated_host_listings_count_shared_rooms         0\n",
      "reviews_per_month                               11540\n",
      "Length: 75, dtype: int64\n"
     ]
    }
   ],
   "source": [
    "# Heatmap of Missing values in the dataset\n",
    "plt.figure(figsize=(11,5))\n",
    "sns.heatmap(listing_df.isna(),cmap='Purples')\n",
    "plt.show()\n",
    "print(listing_df.isna().sum())"
   ]
  },
  {
   "cell_type": "code",
   "execution_count": 8,
   "id": "6cfb4906-9e43-4cd8-b0c5-9acabfbf2f1e",
   "metadata": {},
   "outputs": [
    {
     "data": {
      "text/html": [
       "<div>\n",
       "<style scoped>\n",
       "    .dataframe tbody tr th:only-of-type {\n",
       "        vertical-align: middle;\n",
       "    }\n",
       "\n",
       "    .dataframe tbody tr th {\n",
       "        vertical-align: top;\n",
       "    }\n",
       "\n",
       "    .dataframe thead th {\n",
       "        text-align: right;\n",
       "    }\n",
       "</style>\n",
       "<table border=\"1\" class=\"dataframe\">\n",
       "  <thead>\n",
       "    <tr style=\"text-align: right;\">\n",
       "      <th></th>\n",
       "      <th>id</th>\n",
       "      <th>scrape_id</th>\n",
       "      <th>last_scraped</th>\n",
       "      <th>host_id</th>\n",
       "      <th>host_listings_count</th>\n",
       "      <th>host_total_listings_count</th>\n",
       "      <th>latitude</th>\n",
       "      <th>longitude</th>\n",
       "      <th>accommodates</th>\n",
       "      <th>bathrooms</th>\n",
       "      <th>...</th>\n",
       "      <th>review_scores_cleanliness</th>\n",
       "      <th>review_scores_checkin</th>\n",
       "      <th>review_scores_communication</th>\n",
       "      <th>review_scores_location</th>\n",
       "      <th>review_scores_value</th>\n",
       "      <th>calculated_host_listings_count</th>\n",
       "      <th>calculated_host_listings_count_entire_homes</th>\n",
       "      <th>calculated_host_listings_count_private_rooms</th>\n",
       "      <th>calculated_host_listings_count_shared_rooms</th>\n",
       "      <th>reviews_per_month</th>\n",
       "    </tr>\n",
       "  </thead>\n",
       "  <tbody>\n",
       "    <tr>\n",
       "      <th>count</th>\n",
       "      <td>3.754100e+04</td>\n",
       "      <td>3.754100e+04</td>\n",
       "      <td>37541.000000</td>\n",
       "      <td>3.754100e+04</td>\n",
       "      <td>37536.000000</td>\n",
       "      <td>37536.000000</td>\n",
       "      <td>37541.000000</td>\n",
       "      <td>37541.000000</td>\n",
       "      <td>37541.000000</td>\n",
       "      <td>22790.000000</td>\n",
       "      <td>...</td>\n",
       "      <td>26000.000000</td>\n",
       "      <td>25986.000000</td>\n",
       "      <td>25995.000000</td>\n",
       "      <td>25983.000000</td>\n",
       "      <td>25984.000000</td>\n",
       "      <td>37541.000000</td>\n",
       "      <td>37541.000000</td>\n",
       "      <td>37541.000000</td>\n",
       "      <td>37541.000000</td>\n",
       "      <td>26001.000000</td>\n",
       "    </tr>\n",
       "    <tr>\n",
       "      <th>mean</th>\n",
       "      <td>3.783277e+17</td>\n",
       "      <td>2.024090e+13</td>\n",
       "      <td>45539.679684</td>\n",
       "      <td>1.682797e+08</td>\n",
       "      <td>210.164509</td>\n",
       "      <td>294.218057</td>\n",
       "      <td>40.728722</td>\n",
       "      <td>-73.946982</td>\n",
       "      <td>2.760262</td>\n",
       "      <td>1.187297</td>\n",
       "      <td>...</td>\n",
       "      <td>4.656433</td>\n",
       "      <td>4.831447</td>\n",
       "      <td>4.825776</td>\n",
       "      <td>4.741619</td>\n",
       "      <td>4.642455</td>\n",
       "      <td>56.169974</td>\n",
       "      <td>29.927972</td>\n",
       "      <td>24.236701</td>\n",
       "      <td>0.058363</td>\n",
       "      <td>0.892457</td>\n",
       "    </tr>\n",
       "    <tr>\n",
       "      <th>std</th>\n",
       "      <td>4.643902e+17</td>\n",
       "      <td>1.014467e+01</td>\n",
       "      <td>0.466604</td>\n",
       "      <td>1.820582e+08</td>\n",
       "      <td>830.651876</td>\n",
       "      <td>1050.908535</td>\n",
       "      <td>0.056340</td>\n",
       "      <td>0.054604</td>\n",
       "      <td>1.925977</td>\n",
       "      <td>0.551219</td>\n",
       "      <td>...</td>\n",
       "      <td>0.501060</td>\n",
       "      <td>0.377703</td>\n",
       "      <td>0.407848</td>\n",
       "      <td>0.393922</td>\n",
       "      <td>0.486093</td>\n",
       "      <td>170.598777</td>\n",
       "      <td>136.427099</td>\n",
       "      <td>107.796624</td>\n",
       "      <td>0.547701</td>\n",
       "      <td>1.864734</td>\n",
       "    </tr>\n",
       "    <tr>\n",
       "      <th>min</th>\n",
       "      <td>2.595000e+03</td>\n",
       "      <td>2.024090e+13</td>\n",
       "      <td>45539.000000</td>\n",
       "      <td>1.678000e+03</td>\n",
       "      <td>1.000000</td>\n",
       "      <td>1.000000</td>\n",
       "      <td>40.500366</td>\n",
       "      <td>-74.251907</td>\n",
       "      <td>1.000000</td>\n",
       "      <td>0.000000</td>\n",
       "      <td>...</td>\n",
       "      <td>0.000000</td>\n",
       "      <td>0.000000</td>\n",
       "      <td>0.000000</td>\n",
       "      <td>0.000000</td>\n",
       "      <td>0.000000</td>\n",
       "      <td>1.000000</td>\n",
       "      <td>0.000000</td>\n",
       "      <td>0.000000</td>\n",
       "      <td>0.000000</td>\n",
       "      <td>0.010000</td>\n",
       "    </tr>\n",
       "    <tr>\n",
       "      <th>25%</th>\n",
       "      <td>2.063928e+07</td>\n",
       "      <td>2.024090e+13</td>\n",
       "      <td>45539.000000</td>\n",
       "      <td>1.705622e+07</td>\n",
       "      <td>1.000000</td>\n",
       "      <td>1.000000</td>\n",
       "      <td>40.688491</td>\n",
       "      <td>-73.983108</td>\n",
       "      <td>2.000000</td>\n",
       "      <td>1.000000</td>\n",
       "      <td>...</td>\n",
       "      <td>4.530000</td>\n",
       "      <td>4.810000</td>\n",
       "      <td>4.820000</td>\n",
       "      <td>4.650000</td>\n",
       "      <td>4.530000</td>\n",
       "      <td>1.000000</td>\n",
       "      <td>0.000000</td>\n",
       "      <td>0.000000</td>\n",
       "      <td>0.000000</td>\n",
       "      <td>0.090000</td>\n",
       "    </tr>\n",
       "    <tr>\n",
       "      <th>50%</th>\n",
       "      <td>4.866104e+07</td>\n",
       "      <td>2.024090e+13</td>\n",
       "      <td>45540.000000</td>\n",
       "      <td>8.415508e+07</td>\n",
       "      <td>2.000000</td>\n",
       "      <td>3.000000</td>\n",
       "      <td>40.726090</td>\n",
       "      <td>-73.954540</td>\n",
       "      <td>2.000000</td>\n",
       "      <td>1.000000</td>\n",
       "      <td>...</td>\n",
       "      <td>4.810000</td>\n",
       "      <td>4.950000</td>\n",
       "      <td>4.960000</td>\n",
       "      <td>4.850000</td>\n",
       "      <td>4.760000</td>\n",
       "      <td>2.000000</td>\n",
       "      <td>1.000000</td>\n",
       "      <td>1.000000</td>\n",
       "      <td>0.000000</td>\n",
       "      <td>0.320000</td>\n",
       "    </tr>\n",
       "    <tr>\n",
       "      <th>75%</th>\n",
       "      <td>8.450413e+17</td>\n",
       "      <td>2.024090e+13</td>\n",
       "      <td>45540.000000</td>\n",
       "      <td>3.052402e+08</td>\n",
       "      <td>9.000000</td>\n",
       "      <td>13.000000</td>\n",
       "      <td>40.762380</td>\n",
       "      <td>-73.927800</td>\n",
       "      <td>4.000000</td>\n",
       "      <td>1.000000</td>\n",
       "      <td>...</td>\n",
       "      <td>5.000000</td>\n",
       "      <td>5.000000</td>\n",
       "      <td>5.000000</td>\n",
       "      <td>5.000000</td>\n",
       "      <td>4.940000</td>\n",
       "      <td>8.000000</td>\n",
       "      <td>2.000000</td>\n",
       "      <td>2.000000</td>\n",
       "      <td>0.000000</td>\n",
       "      <td>1.070000</td>\n",
       "    </tr>\n",
       "    <tr>\n",
       "      <th>max</th>\n",
       "      <td>1.237702e+18</td>\n",
       "      <td>2.024090e+13</td>\n",
       "      <td>45540.000000</td>\n",
       "      <td>5.992925e+08</td>\n",
       "      <td>4494.000000</td>\n",
       "      <td>9019.000000</td>\n",
       "      <td>40.911390</td>\n",
       "      <td>-73.713650</td>\n",
       "      <td>16.000000</td>\n",
       "      <td>15.500000</td>\n",
       "      <td>...</td>\n",
       "      <td>5.000000</td>\n",
       "      <td>5.000000</td>\n",
       "      <td>5.000000</td>\n",
       "      <td>5.000000</td>\n",
       "      <td>5.000000</td>\n",
       "      <td>876.000000</td>\n",
       "      <td>876.000000</td>\n",
       "      <td>719.000000</td>\n",
       "      <td>12.000000</td>\n",
       "      <td>110.100000</td>\n",
       "    </tr>\n",
       "  </tbody>\n",
       "</table>\n",
       "<p>8 rows × 40 columns</p>\n",
       "</div>"
      ],
      "text/plain": [
       "                 id     scrape_id  last_scraped       host_id  \\\n",
       "count  3.754100e+04  3.754100e+04  37541.000000  3.754100e+04   \n",
       "mean   3.783277e+17  2.024090e+13  45539.679684  1.682797e+08   \n",
       "std    4.643902e+17  1.014467e+01      0.466604  1.820582e+08   \n",
       "min    2.595000e+03  2.024090e+13  45539.000000  1.678000e+03   \n",
       "25%    2.063928e+07  2.024090e+13  45539.000000  1.705622e+07   \n",
       "50%    4.866104e+07  2.024090e+13  45540.000000  8.415508e+07   \n",
       "75%    8.450413e+17  2.024090e+13  45540.000000  3.052402e+08   \n",
       "max    1.237702e+18  2.024090e+13  45540.000000  5.992925e+08   \n",
       "\n",
       "       host_listings_count  host_total_listings_count      latitude  \\\n",
       "count         37536.000000               37536.000000  37541.000000   \n",
       "mean            210.164509                 294.218057     40.728722   \n",
       "std             830.651876                1050.908535      0.056340   \n",
       "min               1.000000                   1.000000     40.500366   \n",
       "25%               1.000000                   1.000000     40.688491   \n",
       "50%               2.000000                   3.000000     40.726090   \n",
       "75%               9.000000                  13.000000     40.762380   \n",
       "max            4494.000000                9019.000000     40.911390   \n",
       "\n",
       "          longitude  accommodates     bathrooms  ...  \\\n",
       "count  37541.000000  37541.000000  22790.000000  ...   \n",
       "mean     -73.946982      2.760262      1.187297  ...   \n",
       "std        0.054604      1.925977      0.551219  ...   \n",
       "min      -74.251907      1.000000      0.000000  ...   \n",
       "25%      -73.983108      2.000000      1.000000  ...   \n",
       "50%      -73.954540      2.000000      1.000000  ...   \n",
       "75%      -73.927800      4.000000      1.000000  ...   \n",
       "max      -73.713650     16.000000     15.500000  ...   \n",
       "\n",
       "       review_scores_cleanliness  review_scores_checkin  \\\n",
       "count               26000.000000           25986.000000   \n",
       "mean                    4.656433               4.831447   \n",
       "std                     0.501060               0.377703   \n",
       "min                     0.000000               0.000000   \n",
       "25%                     4.530000               4.810000   \n",
       "50%                     4.810000               4.950000   \n",
       "75%                     5.000000               5.000000   \n",
       "max                     5.000000               5.000000   \n",
       "\n",
       "       review_scores_communication  review_scores_location  \\\n",
       "count                 25995.000000            25983.000000   \n",
       "mean                      4.825776                4.741619   \n",
       "std                       0.407848                0.393922   \n",
       "min                       0.000000                0.000000   \n",
       "25%                       4.820000                4.650000   \n",
       "50%                       4.960000                4.850000   \n",
       "75%                       5.000000                5.000000   \n",
       "max                       5.000000                5.000000   \n",
       "\n",
       "       review_scores_value  calculated_host_listings_count  \\\n",
       "count         25984.000000                    37541.000000   \n",
       "mean              4.642455                       56.169974   \n",
       "std               0.486093                      170.598777   \n",
       "min               0.000000                        1.000000   \n",
       "25%               4.530000                        1.000000   \n",
       "50%               4.760000                        2.000000   \n",
       "75%               4.940000                        8.000000   \n",
       "max               5.000000                      876.000000   \n",
       "\n",
       "       calculated_host_listings_count_entire_homes  \\\n",
       "count                                 37541.000000   \n",
       "mean                                     29.927972   \n",
       "std                                     136.427099   \n",
       "min                                       0.000000   \n",
       "25%                                       0.000000   \n",
       "50%                                       1.000000   \n",
       "75%                                       2.000000   \n",
       "max                                     876.000000   \n",
       "\n",
       "       calculated_host_listings_count_private_rooms  \\\n",
       "count                                  37541.000000   \n",
       "mean                                      24.236701   \n",
       "std                                      107.796624   \n",
       "min                                        0.000000   \n",
       "25%                                        0.000000   \n",
       "50%                                        1.000000   \n",
       "75%                                        2.000000   \n",
       "max                                      719.000000   \n",
       "\n",
       "       calculated_host_listings_count_shared_rooms  reviews_per_month  \n",
       "count                                 37541.000000       26001.000000  \n",
       "mean                                      0.058363           0.892457  \n",
       "std                                       0.547701           1.864734  \n",
       "min                                       0.000000           0.010000  \n",
       "25%                                       0.000000           0.090000  \n",
       "50%                                       0.000000           0.320000  \n",
       "75%                                       0.000000           1.070000  \n",
       "max                                      12.000000         110.100000  \n",
       "\n",
       "[8 rows x 40 columns]"
      ]
     },
     "execution_count": 8,
     "metadata": {},
     "output_type": "execute_result"
    }
   ],
   "source": [
    "listing_df.describe()"
   ]
  },
  {
   "cell_type": "code",
   "execution_count": 9,
   "id": "6be33fbb-461f-47d2-bb43-0e9a875f272b",
   "metadata": {},
   "outputs": [
    {
     "name": "stdout",
     "output_type": "stream",
     "text": [
      "Number of unique hosts: 22458\n"
     ]
    }
   ],
   "source": [
    "# Unique host\n",
    "unique_hosts = listing_df['host_id'].nunique()\n",
    "print(\"Number of unique hosts:\", unique_hosts)"
   ]
  },
  {
   "cell_type": "code",
   "execution_count": 10,
   "id": "3fffa9e4-319b-4ea9-9a05-15e6937f0d61",
   "metadata": {},
   "outputs": [
    {
     "name": "stdout",
     "output_type": "stream",
     "text": [
      "Number of unique listings: 37541\n"
     ]
    }
   ],
   "source": [
    "# Unique listings\n",
    "unique_listings = listing_df['id'].nunique()\n",
    "print(\"Number of unique listings:\", unique_listings)"
   ]
  },
  {
   "cell_type": "markdown",
   "id": "339e6994-f113-418f-8a62-657b3ae3c91c",
   "metadata": {},
   "source": [
    "#### Data Cleansing & Transformation"
   ]
  },
  {
   "cell_type": "code",
   "execution_count": 11,
   "id": "e99ddda4-e1ac-4317-960d-0e0c68d56128",
   "metadata": {},
   "outputs": [],
   "source": [
    "# Dropping irrelevant columns\n",
    "listing_dropped_df = listing_df.drop(['listing_url','scrape_id', 'last_scraped','source', 'description', 'neighborhood_overview', \n",
    "                                      'host_neighbourhood', 'picture_url' ,'host_url','host_thumbnail_url', 'host_picture_url', 'host_acceptance_rate',\n",
    "                                      'host_has_profile_pic', 'neighbourhood', 'minimum_nights', 'maximum_nights','maximum_maximum_nights',\n",
    "                                      'minimum_minimum_nights',\t'maximum_minimum_nights',\t'minimum_maximum_nights', \n",
    "                                      'minimum_nights','maximum_nights', 'availability_30',\n",
    "                                      'availability_60', 'availability_90', 'calendar_updated','calendar_last_scraped', \n",
    "                                      'number_of_reviews_ltm', 'bathrooms_text', 'beds', \n",
    "                                      'number_of_reviews_l30d', 'first_review','last_review', 'host_location',\t'host_about',\n",
    "                                      'host_response_time','calculated_host_listings_count', \n",
    "                                      'calculated_host_listings_count_entire_homes','calculated_host_listings_count_private_rooms',\n",
    "                                      'calculated_host_listings_count_shared_rooms','reviews_per_month', 'review_scores_accuracy', \n",
    "                                      'review_scores_checkin',  'review_scores_communication', 'host_verifications'], axis=1)"
   ]
  },
  {
   "cell_type": "code",
   "execution_count": 12,
   "id": "692609f7-71cf-4748-9f04-17fae4ac9402",
   "metadata": {},
   "outputs": [],
   "source": [
    "# Rename neighbourhood_cleansed\t& neighbourhood_group_cleansed\n",
    "listing_dropped_df.rename(columns={'neighbourhood_cleansed': 'neighbourhood'}, inplace=True)\n",
    "listing_dropped_df.rename(columns={'neighbourhood_group_cleansed': 'neighbourhood_group'}, inplace=True)"
   ]
  },
  {
   "cell_type": "code",
   "execution_count": 13,
   "id": "28116bbe-990f-487f-be5a-87bb4621aaf5",
   "metadata": {},
   "outputs": [
    {
     "name": "stdout",
     "output_type": "stream",
     "text": [
      "Host Since in Years/Months:\n",
      "     host_id  host_since host_since_years_months\n",
      "0    3013025  2012-07-21      12 years, 3 months\n",
      "1  358089614  2020-07-23       4 years, 3 months\n",
      "2   39162543  2015-07-21       9 years, 3 months\n",
      "3  148571080  2017-08-31       7 years, 2 months\n",
      "4  394869975  2021-03-30       3 years, 7 months\n"
     ]
    }
   ],
   "source": [
    "# Host Since in years and month\n",
    "def calculate_host_since(date_str):\n",
    "    if pd.isna(date_str):\n",
    "        return None\n",
    "    host_since_date = datetime.strptime(date_str, '%Y-%m-%d')\n",
    "    today = datetime.today()\n",
    "    delta = today - host_since_date\n",
    "    years = delta.days // 365\n",
    "    months = (delta.days % 365) // 30\n",
    "    return f\"{years} years, {months} months\"\n",
    "\n",
    "listing_dropped_df['host_since_years_months'] = listing_dropped_df['host_since'].apply(calculate_host_since)\n",
    "print(\"Host Since in Years/Months:\")\n",
    "print(listing_dropped_df[['host_id', 'host_since', 'host_since_years_months']].head())"
   ]
  },
  {
   "cell_type": "code",
   "execution_count": 14,
   "id": "08112b04-43ad-4628-89fd-148d573d2756",
   "metadata": {},
   "outputs": [],
   "source": [
    "# Impute Reviews wherever blank with 0\n",
    "# review_scores_rating - Average rating score based on all reviews.\n",
    "# review_scores_cleanliness - Average cleanliness score based on guest reviews.\n",
    "# review_scores_location - Average location score based on guest reviews.\n",
    "# review_scores_value - Average value-for-money score based on guest reviews.\n",
    "columns_to_impute = [\n",
    "                        'review_scores_rating',\n",
    "                        'review_scores_cleanliness',\n",
    "                        'review_scores_location',\n",
    "                        'review_scores_value'\n",
    "                    ]\n",
    "\n",
    "listing_dropped_df[columns_to_impute] = listing_dropped_df[columns_to_impute].fillna(0)"
   ]
  },
  {
   "cell_type": "code",
   "execution_count": 15,
   "id": "e32278e2-9cab-49b7-ad9b-aa5ff8bbd8c6",
   "metadata": {},
   "outputs": [
    {
     "data": {
      "text/plain": [
       "Text(0, 0.5, 'Frequency')"
      ]
     },
     "execution_count": 15,
     "metadata": {},
     "output_type": "execute_result"
    },
    {
     "data": {
      "image/png": "[encoded data removed]",
      "text/plain": [
       "<Figure size 1200x600 with 1 Axes>"
      ]
     },
     "metadata": {},
     "output_type": "display_data"
    }
   ],
   "source": [
    "# To check if we should impute with mean/median\n",
    "# If data is normally distributed we go with mean else with median, since, median handles outliers better than mean\n",
    "bedrooms = listing_dropped_df['bedrooms'].dropna()  \n",
    "\n",
    "# Distribution of data\n",
    "plt.figure(figsize=(12, 6))\n",
    "\n",
    "# Histogram\n",
    "plt.subplot(1, 2, 1)\n",
    "sns.histplot(bedrooms, kde=True)\n",
    "plt.title('Histogram of Bedrooms')\n",
    "plt.xlabel('Number of Bedrooms')\n",
    "plt.ylabel('Frequency')"
   ]
  },
  {
   "cell_type": "code",
   "execution_count": 16,
   "id": "70d97a1b-8acc-4625-bdaa-dc9927dd06d4",
   "metadata": {},
   "outputs": [
    {
     "data": {
      "text/plain": [
       "Text(0, 0.5, 'Frequency')"
      ]
     },
     "execution_count": 16,
     "metadata": {},
     "output_type": "execute_result"
    },
    {
     "data": {
      "image/png": "[encoded data removed]",
      "text/plain": [
       "<Figure size 1200x600 with 1 Axes>"
      ]
     },
     "metadata": {},
     "output_type": "display_data"
    }
   ],
   "source": [
    "# To check if we should impute with mean/median\n",
    "# If data is normally distributed we go with mean else with median, since, median handles outliers better than mean\n",
    "# Distribution of data\n",
    "bathrooms = listing_dropped_df['bathrooms'].dropna()\n",
    "plt.figure(figsize=(12, 6))\n",
    "\n",
    "# Histogram\n",
    "plt.subplot(1, 2, 1)\n",
    "sns.histplot(bathrooms, kde=True)\n",
    "plt.title('Histogram of bathrooms')\n",
    "plt.xlabel('Number of bathrooms')\n",
    "plt.ylabel('Frequency')"
   ]
  },
  {
   "cell_type": "code",
   "execution_count": 17,
   "id": "a3201da7-2eb4-451a-b53f-9951ac661927",
   "metadata": {},
   "outputs": [],
   "source": [
    "#  Impute bathrooms and bedrooms with the median of their respective columns (Data is not normally distributed, therefore, using median values to impute)\n",
    "listing_dropped_df['bathrooms'] = listing_dropped_df['bathrooms'].fillna(listing_dropped_df['bathrooms'].median())\n",
    "listing_dropped_df['bedrooms'] = listing_dropped_df['bedrooms'].fillna(listing_dropped_df['bedrooms'].median())\n",
    "listing_dropped_df['bathrooms'] = listing_dropped_df['bathrooms'].astype(int)\n",
    "listing_dropped_df['bedrooms'] = listing_dropped_df['bedrooms'].astype(int)"
   ]
  },
  {
   "cell_type": "code",
   "execution_count": 18,
   "id": "2f39cfbc-2b95-48df-bcc5-76a3ce92b055",
   "metadata": {},
   "outputs": [],
   "source": [
    "# host_identity_verified, if f->Unverified, if t->Verified\n",
    "listing_dropped_df['host_identity_verified'] = listing_dropped_df['host_identity_verified'].replace({'f': 'Unverified', 't': 'Verified'})"
   ]
  },
  {
   "cell_type": "code",
   "execution_count": 19,
   "id": "7ddaac00-040e-4e25-ab43-3bdb51a0c205",
   "metadata": {},
   "outputs": [],
   "source": [
    "# Fill NaN values and blank values in the 'license' column with \"Unlicensed\"\n",
    "listing_dropped_df['license'] = listing_dropped_df['license'].replace('', np.nan)  \n",
    "listing_dropped_df['license'] = listing_dropped_df['license'].fillna('Unlicensed') "
   ]
  },
  {
   "cell_type": "code",
   "execution_count": 20,
   "id": "0f655aca-d467-408e-8a30-0404a4ef7b77",
   "metadata": {},
   "outputs": [],
   "source": [
    "# host_is_superhost, if f->false, if t-True. Blank/Null value with Not Available\n",
    "listing_dropped_df['host_is_superhost'] = listing_dropped_df['host_is_superhost'].replace({'f': False, 't': True})\n",
    "listing_dropped_df['host_is_superhost'] = listing_dropped_df['host_is_superhost'].replace('', np.nan)  \n",
    "listing_dropped_df['host_is_superhost'] = listing_dropped_df['host_is_superhost'].fillna('Not Available') "
   ]
  },
  {
   "cell_type": "code",
   "execution_count": 21,
   "id": "4ed122e2-bf9e-4507-9ca3-5dfa56f636fa",
   "metadata": {},
   "outputs": [],
   "source": [
    "# Maximum of 5 records in each of columns are blanks/null\n",
    "# Drop records where name, host_total_listings_count, host_identity_verified is blank or null \n",
    "listing_dropped_df = listing_dropped_df[listing_dropped_df['name'].notna() & (listing_dropped_df['name'] != '')]\n",
    "listing_dropped_df = listing_dropped_df[listing_dropped_df['host_total_listings_count'].notna() & (listing_dropped_df['host_total_listings_count'] != '')]\n",
    "listing_dropped_df['host_total_listings_count'] = listing_dropped_df['host_total_listings_count'].astype(int)\n",
    "listing_dropped_df = listing_dropped_df[listing_dropped_df['host_identity_verified'].notna() & (listing_dropped_df['host_identity_verified'] != '')]"
   ]
  },
  {
   "cell_type": "code",
   "execution_count": 22,
   "id": "83a5e493-0d42-4e9c-a35f-f18774c3e3ef",
   "metadata": {},
   "outputs": [],
   "source": [
    "# Convert the price column, object -> string first\n",
    "listing_dropped_df['price'] = listing_dropped_df['price'].astype(str)\n",
    "\n",
    "# Remove the dollar sign and commas, then dtype to numeric\n",
    "listing_dropped_df['price'] = listing_dropped_df['price'].str.replace('$', '', regex=False) \\\n",
    "                                                             .str.replace(',', '', regex=False) \\\n",
    "                                                             .astype(float)"
   ]
  },
  {
   "cell_type": "code",
   "execution_count": 23,
   "id": "76484ff9-a782-4827-9442-1c057c4123ba",
   "metadata": {},
   "outputs": [
    {
     "data": {
      "text/plain": [
       "Text(0, 0.5, 'Frequency')"
      ]
     },
     "execution_count": 23,
     "metadata": {},
     "output_type": "execute_result"
    },
    {
     "data": {
      "image/png": "[encoded data removed]",
      "text/plain": [
       "<Figure size 1200x600 with 1 Axes>"
      ]
     },
     "metadata": {},
     "output_type": "display_data"
    }
   ],
   "source": [
    "# To check if we should impute with mean/median\n",
    "# If data is normally distributed we go with mean else with median, since, median handles outliers better than mean\n",
    "# Drop NaN values \n",
    "price = listing_dropped_df['price'].dropna()  \n",
    "\n",
    "# Distribution of data\n",
    "plt.figure(figsize=(12, 6))\n",
    "\n",
    "# Histogram\n",
    "plt.subplot(1, 2, 1)\n",
    "sns.histplot(price, kde=True)\n",
    "plt.title('Histogram of price')\n",
    "plt.xlabel('Price')\n",
    "plt.ylabel('Frequency')"
   ]
  },
  {
   "cell_type": "code",
   "execution_count": 24,
   "id": "2d5af28e-3a21-4df6-a47d-7d239dc898c4",
   "metadata": {},
   "outputs": [],
   "source": [
    "# Fill blank values with the median of the price column\n",
    "median_price = listing_dropped_df['price'].median()\n",
    "listing_dropped_df['price'] = listing_dropped_df['price'].fillna(median_price)"
   ]
  },
  {
   "cell_type": "code",
   "execution_count": 25,
   "id": "913e8881-5fb0-43f5-a4ce-508b8cfbc51f",
   "metadata": {},
   "outputs": [
    {
     "data": {
      "text/plain": [
       "Text(0, 0.5, 'Frequency')"
      ]
     },
     "execution_count": 25,
     "metadata": {},
     "output_type": "execute_result"
    },
    {
     "data": {
      "image/png": "[encoded data removed]",
      "text/plain": [
       "<Figure size 1200x600 with 1 Axes>"
      ]
     },
     "metadata": {},
     "output_type": "display_data"
    }
   ],
   "source": [
    "# To check if we should impute with mean/median\n",
    "# If data is normally distributed we go with mean else with median, since, median handles outliers better than mean\n",
    "# Drop NaN values \n",
    "availability_365 = listing_dropped_df['availability_365'].dropna()  \n",
    "\n",
    "# Distribution of data\n",
    "plt.figure(figsize=(12, 6))\n",
    "\n",
    "# Histogram\n",
    "plt.subplot(1, 2, 1)\n",
    "sns.histplot(availability_365, kde=True)\n",
    "plt.title('Histogram of availability_365')\n",
    "plt.xlabel('availability_365')\n",
    "plt.ylabel('Frequency')"
   ]
  },
  {
   "cell_type": "code",
   "execution_count": 26,
   "id": "32ffa43f-8486-4939-8adc-130e3747eb39",
   "metadata": {},
   "outputs": [],
   "source": [
    "# Median of the availability_365 column\n",
    "median_availability_365 = listing_dropped_df['availability_365'].median()\n",
    "\n",
    "# Impute zero values with the median\n",
    "listing_dropped_df['availability_365'] = listing_dropped_df['availability_365'].replace(0, median_availability_365)"
   ]
  },
  {
   "cell_type": "code",
   "execution_count": 27,
   "id": "b564f8d6-2267-4664-88e0-b0b99e9b6912",
   "metadata": {},
   "outputs": [],
   "source": [
    "# Calculate yearly and monthly revenues\n",
    "listing_dropped_df['total_reservation_days'] = 365 - listing_dropped_df['availability_365']\n",
    "listing_dropped_df['yearly_airbnb_revenue'] = listing_dropped_df['price'] * listing_dropped_df['total_reservation_days']\n",
    "listing_dropped_df['monthly_airbnb_revenue'] = listing_dropped_df['yearly_airbnb_revenue'] / 12"
   ]
  },
  {
   "cell_type": "code",
   "execution_count": 28,
   "id": "9921bcec-3948-4e5f-95e2-905ca1edaf31",
   "metadata": {},
   "outputs": [
    {
     "data": {
      "text/plain": [
       "(37534, 16)"
      ]
     },
     "execution_count": 28,
     "metadata": {},
     "output_type": "execute_result"
    }
   ],
   "source": [
    "listing_final_df = listing_dropped_df[['id', 'name', 'neighbourhood',\n",
    "                                       'latitude', 'longitude', 'property_type', 'room_type', 'accommodates',\n",
    "                                       'bathrooms', 'bedrooms', 'amenities', \n",
    "                                       'price', 'availability_365', 'license',\n",
    "                                       'instant_bookable', 'host_id']]\n",
    "listing_final_df.shape"
   ]
  },
  {
   "cell_type": "code",
   "execution_count": 29,
   "id": "9b4de5e6-1892-461f-8fad-f96f62fd7138",
   "metadata": {},
   "outputs": [],
   "source": [
    "# Save the results to a CSV file\n",
    "listing_final_df.to_csv('listings.csv', index=False)"
   ]
  },
  {
   "cell_type": "markdown",
   "id": "635a897b-9a72-4c31-ad5e-6b894eb8f62a",
   "metadata": {},
   "source": [
    "#### HostDetails"
   ]
  },
  {
   "cell_type": "code",
   "execution_count": 30,
   "id": "d4fd55e9-9866-4510-8976-080dfb045bab",
   "metadata": {},
   "outputs": [],
   "source": [
    "host_details_df = listing_dropped_df[\n",
    "                                        [\n",
    "                                          'host_id', 'host_name', 'host_since','host_response_rate',\n",
    "                                          'host_is_superhost', 'host_total_listings_count',\n",
    "                                          'host_identity_verified', 'license', 'host_since_years_months'\n",
    "                                        ]\n",
    "                                 ]\n",
    "\n",
    "host_details_final_df = host_details_df[\n",
    "                                            [\n",
    "                                             'host_id', 'host_name', 'host_response_rate',\n",
    "                                             'host_is_superhost',  'host_total_listings_count',\n",
    "                                             'host_identity_verified', 'license', 'host_since', 'host_since_years_months'\n",
    "                                           ]\n",
    "                                       ].drop_duplicates()"
   ]
  },
  {
   "cell_type": "code",
   "execution_count": 31,
   "id": "13cbd05f-0679-437f-9699-2bcc3b849fa9",
   "metadata": {},
   "outputs": [
    {
     "data": {
      "text/plain": [
       "(22911, 9)"
      ]
     },
     "execution_count": 31,
     "metadata": {},
     "output_type": "execute_result"
    }
   ],
   "source": [
    "host_details_final_df.shape"
   ]
  },
  {
   "cell_type": "code",
   "execution_count": 32,
   "id": "31682e31-4479-4330-ac6b-dd600368b373",
   "metadata": {},
   "outputs": [
    {
     "data": {
      "text/plain": [
       "host_id                       int64\n",
       "host_name                    object\n",
       "host_response_rate           object\n",
       "host_is_superhost            object\n",
       "host_total_listings_count     int32\n",
       "host_identity_verified       object\n",
       "license                      object\n",
       "host_since                   object\n",
       "host_since_years_months      object\n",
       "dtype: object"
      ]
     },
     "execution_count": 32,
     "metadata": {},
     "output_type": "execute_result"
    }
   ],
   "source": [
    "host_details_final_df.dtypes"
   ]
  },
  {
   "cell_type": "code",
   "execution_count": 33,
   "id": "88a37d91-f4fb-4901-917c-b3da07c4f1a0",
   "metadata": {},
   "outputs": [
    {
     "name": "stdout",
     "output_type": "stream",
     "text": [
      "All host_id's are present in listings.\n"
     ]
    }
   ],
   "source": [
    "# Check if all host_id in host_details_final_df are present in listing_final_df\n",
    "missing_hosts = host_details_final_df[~host_details_final_df['host_id'].isin(listing_final_df['host_id'])]\n",
    "\n",
    "if missing_hosts.empty:\n",
    "    print(\"All host_id's are present in listings.\")\n",
    "else:\n",
    "    print(\"Missing host_id's:\")\n",
    "    print(missing_hosts)"
   ]
  },
  {
   "cell_type": "code",
   "execution_count": 34,
   "id": "1e5497cb-b5d6-497b-8c49-2517a04f4470",
   "metadata": {},
   "outputs": [],
   "source": [
    "# Save the results to a CSV file\n",
    "host_details_final_df.to_csv('host.csv', index=False)"
   ]
  },
  {
   "cell_type": "markdown",
   "id": "6e23f0f9-2f7f-46d5-bd87-1a83c865bb51",
   "metadata": {},
   "source": [
    "#### Revenue"
   ]
  },
  {
   "cell_type": "code",
   "execution_count": 35,
   "id": "fba81665-5b42-4fdd-95ee-1ad80208dc5d",
   "metadata": {},
   "outputs": [],
   "source": [
    "revenue_final_df = listing_dropped_df[\n",
    "                                         [\n",
    "                                          'id', 'monthly_airbnb_revenue',\n",
    "                                          'yearly_airbnb_revenue', 'total_reservation_days'\n",
    "                                         ]\n",
    "                                     ]"
   ]
  },
  {
   "cell_type": "code",
   "execution_count": 36,
   "id": "cd7f3108-9eec-49b2-8a23-0e7cb2f18b09",
   "metadata": {},
   "outputs": [
    {
     "data": {
      "text/plain": [
       "(37534, 4)"
      ]
     },
     "execution_count": 36,
     "metadata": {},
     "output_type": "execute_result"
    }
   ],
   "source": [
    "revenue_final_df.shape"
   ]
  },
  {
   "cell_type": "code",
   "execution_count": 37,
   "id": "f8ba4b10-0bb4-40ce-9fc2-87a3ed61aa75",
   "metadata": {},
   "outputs": [],
   "source": [
    "# Save the results to a CSV file\n",
    "revenue_final_df.to_csv('revenue.csv', index=False)"
   ]
  },
  {
   "cell_type": "markdown",
   "id": "e97706a7-40c5-4270-85b8-bc2f56107ead",
   "metadata": {},
   "source": [
    "#### Neighbourhood file"
   ]
  },
  {
   "cell_type": "code",
   "execution_count": 38,
   "id": "5e9736a0-3269-400a-9975-7dd12283ae01",
   "metadata": {},
   "outputs": [],
   "source": [
    "neighbour_df = pd.read_csv(r\"E:\\Michaelmas\\BU7141-Data Management & Viz\\Group Project\\neighbourhoods.csv\")"
   ]
  },
  {
   "cell_type": "code",
   "execution_count": 39,
   "id": "632b8fe5-d3fb-4f93-8342-3cbd616584a2",
   "metadata": {},
   "outputs": [
    {
     "data": {
      "text/plain": [
       "neighbourhood_group    0\n",
       "neighbourhood          0\n",
       "dtype: int64"
      ]
     },
     "execution_count": 39,
     "metadata": {},
     "output_type": "execute_result"
    }
   ],
   "source": [
    "neighbour_df.isnull().sum()"
   ]
  },
  {
   "cell_type": "code",
   "execution_count": 40,
   "id": "32af9a1f-abad-4110-b649-15cf4f122114",
   "metadata": {},
   "outputs": [
    {
     "data": {
      "text/html": [
       "<div>\n",
       "<style scoped>\n",
       "    .dataframe tbody tr th:only-of-type {\n",
       "        vertical-align: middle;\n",
       "    }\n",
       "\n",
       "    .dataframe tbody tr th {\n",
       "        vertical-align: top;\n",
       "    }\n",
       "\n",
       "    .dataframe thead th {\n",
       "        text-align: right;\n",
       "    }\n",
       "</style>\n",
       "<table border=\"1\" class=\"dataframe\">\n",
       "  <thead>\n",
       "    <tr style=\"text-align: right;\">\n",
       "      <th></th>\n",
       "      <th>neighbourhood_group</th>\n",
       "      <th>neighbourhood</th>\n",
       "    </tr>\n",
       "  </thead>\n",
       "  <tbody>\n",
       "    <tr>\n",
       "      <th>count</th>\n",
       "      <td>230</td>\n",
       "      <td>230</td>\n",
       "    </tr>\n",
       "    <tr>\n",
       "      <th>unique</th>\n",
       "      <td>5</td>\n",
       "      <td>230</td>\n",
       "    </tr>\n",
       "    <tr>\n",
       "      <th>top</th>\n",
       "      <td>Queens</td>\n",
       "      <td>Allerton</td>\n",
       "    </tr>\n",
       "    <tr>\n",
       "      <th>freq</th>\n",
       "      <td>53</td>\n",
       "      <td>1</td>\n",
       "    </tr>\n",
       "  </tbody>\n",
       "</table>\n",
       "</div>"
      ],
      "text/plain": [
       "       neighbourhood_group neighbourhood\n",
       "count                  230           230\n",
       "unique                   5           230\n",
       "top                 Queens      Allerton\n",
       "freq                    53             1"
      ]
     },
     "execution_count": 40,
     "metadata": {},
     "output_type": "execute_result"
    }
   ],
   "source": [
    "neighbour_df.describe()"
   ]
  },
  {
   "cell_type": "code",
   "execution_count": 41,
   "id": "67ecb2f2-4f4d-4c26-a5dc-67c9c52dfc8e",
   "metadata": {},
   "outputs": [
    {
     "name": "stdout",
     "output_type": "stream",
     "text": [
      "All neighbourhoods are accounted for in the neighbourhood file.\n"
     ]
    }
   ],
   "source": [
    "# Check if all the neighbourhood of listings are in neighbourhood file\n",
    "valid_neighbourhoods = neighbour_df['neighbourhood'].unique()\n",
    "missing_neighbourhoods = set(listing_dropped_df['neighbourhood'].dropna().unique()) - set(valid_neighbourhoods)\n",
    "\n",
    "if not missing_neighbourhoods:\n",
    "    print(\"All neighbourhoods are accounted for in the neighbourhood file.\")\n",
    "else:\n",
    "    \n",
    "    print(\"Missing neighbourhoods in the neighbourhood file:\", len(missing_neighbourhoods))\n",
    "    # print(\"Missing neighbourhoods in the neighbourhood file:\", missing_neighbourhoods)"
   ]
  },
  {
   "cell_type": "code",
   "execution_count": 42,
   "id": "146c53ea-60e4-4e1d-87b5-135ec466c342",
   "metadata": {},
   "outputs": [],
   "source": [
    "# Save the results to a CSV file\n",
    "neighbour_df.to_csv('neighbourhood.csv', index=False)"
   ]
  },
  {
   "cell_type": "markdown",
   "id": "9fcdf728-a63a-4905-ad86-9c7bec50b480",
   "metadata": {},
   "source": [
    "#### Reviews File"
   ]
  },
  {
   "cell_type": "code",
   "execution_count": 43,
   "id": "c977df98-e1f9-4143-b4db-d6bfb50937c3",
   "metadata": {},
   "outputs": [],
   "source": [
    "reviews_df = pd.read_csv(r\"E:\\Michaelmas\\BU7141-Data Management & Viz\\Group Project\\reviews.csv\")"
   ]
  },
  {
   "cell_type": "code",
   "execution_count": 44,
   "id": "48dd51db-5bfc-4afe-b8ea-e1cad25948d0",
   "metadata": {},
   "outputs": [
    {
     "data": {
      "text/plain": [
       "Index(['listing_id', 'id', 'date', 'reviewer_id', 'reviewer_name', 'comments'], dtype='object')"
      ]
     },
     "execution_count": 44,
     "metadata": {},
     "output_type": "execute_result"
    }
   ],
   "source": [
    "reviews_df.columns"
   ]
  },
  {
   "cell_type": "code",
   "execution_count": 45,
   "id": "88c7d902-cde6-4332-8976-f9e4c64824fd",
   "metadata": {},
   "outputs": [
    {
     "data": {
      "text/plain": [
       "listing_id         0\n",
       "id                 0\n",
       "date               0\n",
       "reviewer_id        0\n",
       "reviewer_name      3\n",
       "comments         234\n",
       "dtype: int64"
      ]
     },
     "execution_count": 45,
     "metadata": {},
     "output_type": "execute_result"
    }
   ],
   "source": [
    "reviews_df.isnull().sum()"
   ]
  },
  {
   "cell_type": "code",
   "execution_count": 46,
   "id": "69072cf3-8824-455d-90b5-e22eacc47004",
   "metadata": {},
   "outputs": [
    {
     "data": {
      "text/plain": [
       "(947328, 6)"
      ]
     },
     "execution_count": 46,
     "metadata": {},
     "output_type": "execute_result"
    }
   ],
   "source": [
    "reviews_df.shape"
   ]
  },
  {
   "cell_type": "code",
   "execution_count": 47,
   "id": "ca2e0c4f-8bfd-4f2f-ac68-0b9c18b2adf3",
   "metadata": {},
   "outputs": [
    {
     "data": {
      "text/html": [
       "<div>\n",
       "<style scoped>\n",
       "    .dataframe tbody tr th:only-of-type {\n",
       "        vertical-align: middle;\n",
       "    }\n",
       "\n",
       "    .dataframe tbody tr th {\n",
       "        vertical-align: top;\n",
       "    }\n",
       "\n",
       "    .dataframe thead th {\n",
       "        text-align: right;\n",
       "    }\n",
       "</style>\n",
       "<table border=\"1\" class=\"dataframe\">\n",
       "  <thead>\n",
       "    <tr style=\"text-align: right;\">\n",
       "      <th></th>\n",
       "      <th>listing_id</th>\n",
       "      <th>id</th>\n",
       "      <th>reviewer_id</th>\n",
       "    </tr>\n",
       "  </thead>\n",
       "  <tbody>\n",
       "    <tr>\n",
       "      <th>count</th>\n",
       "      <td>9.473280e+05</td>\n",
       "      <td>9.473280e+05</td>\n",
       "      <td>9.473280e+05</td>\n",
       "    </tr>\n",
       "    <tr>\n",
       "      <th>mean</th>\n",
       "      <td>1.359726e+17</td>\n",
       "      <td>4.415037e+17</td>\n",
       "      <td>1.560532e+08</td>\n",
       "    </tr>\n",
       "    <tr>\n",
       "      <th>std</th>\n",
       "      <td>3.029456e+17</td>\n",
       "      <td>4.432219e+17</td>\n",
       "      <td>1.524951e+08</td>\n",
       "    </tr>\n",
       "    <tr>\n",
       "      <th>min</th>\n",
       "      <td>2.595000e+03</td>\n",
       "      <td>3.149000e+03</td>\n",
       "      <td>1.000000e+00</td>\n",
       "    </tr>\n",
       "    <tr>\n",
       "      <th>25%</th>\n",
       "      <td>9.181806e+06</td>\n",
       "      <td>3.480518e+08</td>\n",
       "      <td>3.045549e+07</td>\n",
       "    </tr>\n",
       "    <tr>\n",
       "      <th>50%</th>\n",
       "      <td>2.553463e+07</td>\n",
       "      <td>4.651389e+17</td>\n",
       "      <td>1.021124e+08</td>\n",
       "    </tr>\n",
       "    <tr>\n",
       "      <th>75%</th>\n",
       "      <td>5.005308e+07</td>\n",
       "      <td>8.630027e+17</td>\n",
       "      <td>2.431045e+08</td>\n",
       "    </tr>\n",
       "    <tr>\n",
       "      <th>max</th>\n",
       "      <td>1.221844e+18</td>\n",
       "      <td>1.238549e+18</td>\n",
       "      <td>5.995101e+08</td>\n",
       "    </tr>\n",
       "  </tbody>\n",
       "</table>\n",
       "</div>"
      ],
      "text/plain": [
       "         listing_id            id   reviewer_id\n",
       "count  9.473280e+05  9.473280e+05  9.473280e+05\n",
       "mean   1.359726e+17  4.415037e+17  1.560532e+08\n",
       "std    3.029456e+17  4.432219e+17  1.524951e+08\n",
       "min    2.595000e+03  3.149000e+03  1.000000e+00\n",
       "25%    9.181806e+06  3.480518e+08  3.045549e+07\n",
       "50%    2.553463e+07  4.651389e+17  1.021124e+08\n",
       "75%    5.005308e+07  8.630027e+17  2.431045e+08\n",
       "max    1.221844e+18  1.238549e+18  5.995101e+08"
      ]
     },
     "execution_count": 47,
     "metadata": {},
     "output_type": "execute_result"
    }
   ],
   "source": [
    "reviews_df.describe()"
   ]
  },
  {
   "cell_type": "code",
   "execution_count": 48,
   "id": "7db99ae6-2c4d-4ff0-9bba-d535ae60495d",
   "metadata": {},
   "outputs": [],
   "source": [
    "# Keeping only these columns for reviews\n",
    "listings_reviews_df = listing_dropped_df[['id','number_of_reviews',\n",
    "                                         'review_scores_rating',\n",
    "                                         'review_scores_cleanliness',\n",
    "                                          'review_scores_location',\n",
    "                                        'review_scores_value']]"
   ]
  },
  {
   "cell_type": "code",
   "execution_count": 49,
   "id": "758f8129-82ac-44c2-95b1-10d424743456",
   "metadata": {},
   "outputs": [],
   "source": [
    "reviews_merged_df = pd.merge(listings_reviews_df, reviews_df[['listing_id','reviewer_id','date','comments']], left_on='id', right_on='listing_id', how='inner').drop('id', axis =1)"
   ]
  },
  {
   "cell_type": "code",
   "execution_count": 50,
   "id": "ab5a009b-c9ad-44ae-bc1f-ab3edb9b614e",
   "metadata": {},
   "outputs": [
    {
     "name": "stdout",
     "output_type": "stream",
     "text": [
      "Number of listing_ids in reviews_merged_df not present in listings_reviews_df: 0\n"
     ]
    }
   ],
   "source": [
    "# Unique listing_ids from both DataFrames\n",
    "listings_ids = set(listings_reviews_df['id'].unique())\n",
    "merged_listing_ids = set(reviews_merged_df['listing_id'].unique())\n",
    "\n",
    "# Find listing_ids in reviews_merged_df that are not in listings_reviews_df\n",
    "missing_listing_ids = merged_listing_ids - listings_ids\n",
    "\n",
    "# Count the number of missing listing_ids\n",
    "missing_count = len(missing_listing_ids)\n",
    "\n",
    "# Print the result\n",
    "print(f\"Number of listing_ids in reviews_merged_df not present in listings_reviews_df: {missing_count}\")\n",
    "if missing_count > 0:\n",
    "    print(\"Missing listing_ids:\", missing_listing_ids)"
   ]
  },
  {
   "cell_type": "markdown",
   "id": "1d6cb6e0-d67b-43a8-843b-6d2b4e6ad528",
   "metadata": {},
   "source": [
    "##### Sentiment - Analysis of Review comments"
   ]
  },
  {
   "cell_type": "code",
   "execution_count": 51,
   "id": "6740a6ef-4559-4e63-84e4-985aeecbd814",
   "metadata": {},
   "outputs": [],
   "source": [
    "# Remove special characters/extra spaces from comments column\n",
    "def clean_comment(comment):\n",
    "    if pd.isnull(comment):  # Check for NaN\n",
    "        return ''\n",
    "\n",
    "    comment = re.sub(r'[^\\w\\s]', ' ', comment)  \n",
    "    comment = re.sub(r'\\s+', ' ', comment)  \n",
    "    return comment.strip()\n",
    "\n",
    "# Apply the function \n",
    "reviews_merged_df['comments'] = reviews_merged_df['comments'].apply(clean_comment)"
   ]
  },
  {
   "cell_type": "code",
   "execution_count": 52,
   "id": "2633cc12-b0d7-4417-9ce3-e8b61ca64931",
   "metadata": {},
   "outputs": [
    {
     "name": "stderr",
     "output_type": "stream",
     "text": [
      "[nltk_data] Downloading package vader_lexicon to\n",
      "[nltk_data]     C:\\Users\\Arushi\\AppData\\Roaming\\nltk_data...\n",
      "[nltk_data]   Package vader_lexicon is already up-to-date!\n",
      "[nltk_data] Downloading package punkt to\n",
      "[nltk_data]     C:\\Users\\Arushi\\AppData\\Roaming\\nltk_data...\n",
      "[nltk_data]   Package punkt is already up-to-date!\n"
     ]
    },
    {
     "data": {
      "text/html": [
       "<div>\n",
       "<style scoped>\n",
       "    .dataframe tbody tr th:only-of-type {\n",
       "        vertical-align: middle;\n",
       "    }\n",
       "\n",
       "    .dataframe tbody tr th {\n",
       "        vertical-align: top;\n",
       "    }\n",
       "\n",
       "    .dataframe thead th {\n",
       "        text-align: right;\n",
       "    }\n",
       "</style>\n",
       "<table border=\"1\" class=\"dataframe\">\n",
       "  <thead>\n",
       "    <tr style=\"text-align: right;\">\n",
       "      <th></th>\n",
       "      <th>comments</th>\n",
       "      <th>sentiment_score</th>\n",
       "      <th>sentiment</th>\n",
       "    </tr>\n",
       "  </thead>\n",
       "  <tbody>\n",
       "    <tr>\n",
       "      <th>0</th>\n",
       "      <td>Letha was a great hostess She was easy to comm...</td>\n",
       "      <td>0.9593</td>\n",
       "      <td>Positive</td>\n",
       "    </tr>\n",
       "    <tr>\n",
       "      <th>1</th>\n",
       "      <td>The place is truly great Great location with a...</td>\n",
       "      <td>0.8814</td>\n",
       "      <td>Positive</td>\n",
       "    </tr>\n",
       "    <tr>\n",
       "      <th>2</th>\n",
       "      <td>Kimberly is a great host The room is cozy and ...</td>\n",
       "      <td>0.9559</td>\n",
       "      <td>Positive</td>\n",
       "    </tr>\n",
       "    <tr>\n",
       "      <th>3</th>\n",
       "      <td>Pros Kim is a very nice and helpful host and h...</td>\n",
       "      <td>-0.4543</td>\n",
       "      <td>Negative</td>\n",
       "    </tr>\n",
       "    <tr>\n",
       "      <th>4</th>\n",
       "      <td>I liked Kim since the first time I saw her She...</td>\n",
       "      <td>0.9519</td>\n",
       "      <td>Positive</td>\n",
       "    </tr>\n",
       "  </tbody>\n",
       "</table>\n",
       "</div>"
      ],
      "text/plain": [
       "                                            comments  sentiment_score  \\\n",
       "0  Letha was a great hostess She was easy to comm...           0.9593   \n",
       "1  The place is truly great Great location with a...           0.8814   \n",
       "2  Kimberly is a great host The room is cozy and ...           0.9559   \n",
       "3  Pros Kim is a very nice and helpful host and h...          -0.4543   \n",
       "4  I liked Kim since the first time I saw her She...           0.9519   \n",
       "\n",
       "  sentiment  \n",
       "0  Positive  \n",
       "1  Positive  \n",
       "2  Positive  \n",
       "3  Negative  \n",
       "4  Positive  "
      ]
     },
     "execution_count": 52,
     "metadata": {},
     "output_type": "execute_result"
    }
   ],
   "source": [
    "import nltk\n",
    "from nltk.sentiment import SentimentIntensityAnalyzer\n",
    "import pandas as pd\n",
    "\n",
    "# Ensure NLTK resources are downloaded\n",
    "nltk.download('vader_lexicon')\n",
    "nltk.download('punkt')\n",
    "\n",
    "# Initialize VADER sentiment analyzer\n",
    "sia = SentimentIntensityAnalyzer()\n",
    "\n",
    "# Function to calculate sentiment score\n",
    "def get_sentiment_score(comment):\n",
    "    if pd.isna(comment):\n",
    "        return 0  # Neutral score for missing comments\n",
    "    score = sia.polarity_scores(comment)\n",
    "    return score['compound']  # Compound score is a good overall indicator\n",
    "\n",
    "# Function to classify sentiment based on score\n",
    "def classify_sentiment(score):\n",
    "    if score > 0.05:\n",
    "        return 'Positive'\n",
    "    elif score < -0.05:\n",
    "        return 'Negative'\n",
    "    else:\n",
    "        return 'Neutral'\n",
    "\n",
    "# Fetch sentiment score and sentiment label\n",
    "reviews_merged_df['sentiment_score'] = reviews_merged_df['comments'].apply(get_sentiment_score)\n",
    "reviews_merged_df['sentiment'] = reviews_merged_df['sentiment_score'].apply(classify_sentiment)\n",
    "\n",
    "reviews_merged_df[['comments', 'sentiment_score', 'sentiment']].head()"
   ]
  },
  {
   "cell_type": "code",
   "execution_count": 53,
   "id": "0413dd44-2fc7-4c46-8e75-f0c673a4a85c",
   "metadata": {},
   "outputs": [],
   "source": [
    "reviews_merged_df = reviews_merged_df[['reviewer_id','number_of_reviews',\n",
    "                                         'review_scores_rating',\n",
    "                                         'review_scores_cleanliness',\n",
    "                                          'review_scores_location', \n",
    "                                        'review_scores_value','listing_id', 'sentiment_score', 'sentiment','comments']]"
   ]
  },
  {
   "cell_type": "code",
   "execution_count": 54,
   "id": "e73e8587-6658-494e-8558-b4fd09e69b28",
   "metadata": {},
   "outputs": [
    {
     "data": {
      "text/plain": [
       "(781664, 10)"
      ]
     },
     "execution_count": 54,
     "metadata": {},
     "output_type": "execute_result"
    }
   ],
   "source": [
    "reviews_merged_df.shape"
   ]
  },
  {
   "cell_type": "code",
   "execution_count": 55,
   "id": "f0ebcc46-9e15-4cf1-9302-555f02b57dc6",
   "metadata": {},
   "outputs": [],
   "source": [
    "# Save the results to a excel file\n",
    "reviews_merged_df.to_excel('reviews.xlsx', index=False)"
   ]
  }
 ],
 "metadata": {
  "kernelspec": {
   "display_name": "Python 3 (ipykernel)",
   "language": "python",
   "name": "python3"
  },
  "language_info": {
   "codemirror_mode": {
    "name": "ipython",
    "version": 3
   },
   "file_extension": ".py",
   "mimetype": "text/x-python",
   "name": "python",
   "nbconvert_exporter": "python",
   "pygments_lexer": "ipython3",
   "version": "3.12.4"
  }
 },
 "nbformat": 4,
 "nbformat_minor": 5
}
